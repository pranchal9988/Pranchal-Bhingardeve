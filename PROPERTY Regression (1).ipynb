{
 "cells": [
  {
   "cell_type": "code",
   "execution_count": 1,
   "id": "648cb43b",
   "metadata": {},
   "outputs": [],
   "source": [
    "import pandas as pd\n",
    "from sklearn.model_selection import train_test_split\n",
    "import numpy as np\n",
    "import matplotlib.pyplot as plt\n",
    "import seaborn as sns\n",
    "from sklearn.linear_model import LinearRegression\n",
    "linreg = LinearRegression()"
   ]
  },
  {
   "cell_type": "code",
   "execution_count": 2,
   "id": "d2e8ecbc",
   "metadata": {},
   "outputs": [],
   "source": [
    "from sklearn.preprocessing import LabelEncoder\n",
    "le = LabelEncoder()"
   ]
  },
  {
   "cell_type": "markdown",
   "id": "dd76a925",
   "metadata": {},
   "source": [
    "REGRESSION MODEL ON PROPERTY PRICE TRAIN"
   ]
  },
  {
   "cell_type": "code",
   "execution_count": 3,
   "id": "dd48fb7f",
   "metadata": {},
   "outputs": [],
   "source": [
    "prop = pd.read_csv(r'D:\\datasets\\Property_Price_Train.csv')"
   ]
  },
  {
   "cell_type": "code",
   "execution_count": 4,
   "id": "311953d0",
   "metadata": {},
   "outputs": [
    {
     "data": {
      "text/html": [
       "<div>\n",
       "<style scoped>\n",
       "    .dataframe tbody tr th:only-of-type {\n",
       "        vertical-align: middle;\n",
       "    }\n",
       "\n",
       "    .dataframe tbody tr th {\n",
       "        vertical-align: top;\n",
       "    }\n",
       "\n",
       "    .dataframe thead th {\n",
       "        text-align: right;\n",
       "    }\n",
       "</style>\n",
       "<table border=\"1\" class=\"dataframe\">\n",
       "  <thead>\n",
       "    <tr style=\"text-align: right;\">\n",
       "      <th></th>\n",
       "      <th>Id</th>\n",
       "      <th>Building_Class</th>\n",
       "      <th>Zoning_Class</th>\n",
       "      <th>Lot_Extent</th>\n",
       "      <th>Lot_Size</th>\n",
       "      <th>Road_Type</th>\n",
       "      <th>Lane_Type</th>\n",
       "      <th>Property_Shape</th>\n",
       "      <th>Land_Outline</th>\n",
       "      <th>Utility_Type</th>\n",
       "      <th>...</th>\n",
       "      <th>Pool_Area</th>\n",
       "      <th>Pool_Quality</th>\n",
       "      <th>Fence_Quality</th>\n",
       "      <th>Miscellaneous_Feature</th>\n",
       "      <th>Miscellaneous_Value</th>\n",
       "      <th>Month_Sold</th>\n",
       "      <th>Year_Sold</th>\n",
       "      <th>Sale_Type</th>\n",
       "      <th>Sale_Condition</th>\n",
       "      <th>Sale_Price</th>\n",
       "    </tr>\n",
       "  </thead>\n",
       "  <tbody>\n",
       "    <tr>\n",
       "      <th>0</th>\n",
       "      <td>1</td>\n",
       "      <td>60</td>\n",
       "      <td>RLD</td>\n",
       "      <td>65.0</td>\n",
       "      <td>8450</td>\n",
       "      <td>Paved</td>\n",
       "      <td>NaN</td>\n",
       "      <td>Reg</td>\n",
       "      <td>Lvl</td>\n",
       "      <td>AllPub</td>\n",
       "      <td>...</td>\n",
       "      <td>0</td>\n",
       "      <td>NaN</td>\n",
       "      <td>NaN</td>\n",
       "      <td>NaN</td>\n",
       "      <td>0</td>\n",
       "      <td>2</td>\n",
       "      <td>2008</td>\n",
       "      <td>WD</td>\n",
       "      <td>Normal</td>\n",
       "      <td>208500</td>\n",
       "    </tr>\n",
       "    <tr>\n",
       "      <th>1</th>\n",
       "      <td>2</td>\n",
       "      <td>20</td>\n",
       "      <td>RLD</td>\n",
       "      <td>80.0</td>\n",
       "      <td>9600</td>\n",
       "      <td>Paved</td>\n",
       "      <td>NaN</td>\n",
       "      <td>Reg</td>\n",
       "      <td>Lvl</td>\n",
       "      <td>AllPub</td>\n",
       "      <td>...</td>\n",
       "      <td>0</td>\n",
       "      <td>NaN</td>\n",
       "      <td>NaN</td>\n",
       "      <td>NaN</td>\n",
       "      <td>0</td>\n",
       "      <td>5</td>\n",
       "      <td>2007</td>\n",
       "      <td>WD</td>\n",
       "      <td>Normal</td>\n",
       "      <td>181500</td>\n",
       "    </tr>\n",
       "    <tr>\n",
       "      <th>2</th>\n",
       "      <td>3</td>\n",
       "      <td>60</td>\n",
       "      <td>RLD</td>\n",
       "      <td>68.0</td>\n",
       "      <td>11250</td>\n",
       "      <td>Paved</td>\n",
       "      <td>NaN</td>\n",
       "      <td>IR1</td>\n",
       "      <td>Lvl</td>\n",
       "      <td>AllPub</td>\n",
       "      <td>...</td>\n",
       "      <td>0</td>\n",
       "      <td>NaN</td>\n",
       "      <td>NaN</td>\n",
       "      <td>NaN</td>\n",
       "      <td>0</td>\n",
       "      <td>9</td>\n",
       "      <td>2008</td>\n",
       "      <td>WD</td>\n",
       "      <td>Normal</td>\n",
       "      <td>223500</td>\n",
       "    </tr>\n",
       "    <tr>\n",
       "      <th>3</th>\n",
       "      <td>4</td>\n",
       "      <td>70</td>\n",
       "      <td>RLD</td>\n",
       "      <td>60.0</td>\n",
       "      <td>9550</td>\n",
       "      <td>Paved</td>\n",
       "      <td>NaN</td>\n",
       "      <td>IR1</td>\n",
       "      <td>Lvl</td>\n",
       "      <td>AllPub</td>\n",
       "      <td>...</td>\n",
       "      <td>0</td>\n",
       "      <td>NaN</td>\n",
       "      <td>NaN</td>\n",
       "      <td>NaN</td>\n",
       "      <td>0</td>\n",
       "      <td>2</td>\n",
       "      <td>2006</td>\n",
       "      <td>WD</td>\n",
       "      <td>Abnorml</td>\n",
       "      <td>140000</td>\n",
       "    </tr>\n",
       "    <tr>\n",
       "      <th>4</th>\n",
       "      <td>5</td>\n",
       "      <td>60</td>\n",
       "      <td>RLD</td>\n",
       "      <td>84.0</td>\n",
       "      <td>14260</td>\n",
       "      <td>Paved</td>\n",
       "      <td>NaN</td>\n",
       "      <td>IR1</td>\n",
       "      <td>Lvl</td>\n",
       "      <td>AllPub</td>\n",
       "      <td>...</td>\n",
       "      <td>0</td>\n",
       "      <td>NaN</td>\n",
       "      <td>NaN</td>\n",
       "      <td>NaN</td>\n",
       "      <td>0</td>\n",
       "      <td>12</td>\n",
       "      <td>2008</td>\n",
       "      <td>WD</td>\n",
       "      <td>Normal</td>\n",
       "      <td>250000</td>\n",
       "    </tr>\n",
       "  </tbody>\n",
       "</table>\n",
       "<p>5 rows × 81 columns</p>\n",
       "</div>"
      ],
      "text/plain": [
       "   Id  Building_Class Zoning_Class  Lot_Extent  Lot_Size Road_Type Lane_Type  \\\n",
       "0   1              60          RLD        65.0      8450     Paved       NaN   \n",
       "1   2              20          RLD        80.0      9600     Paved       NaN   \n",
       "2   3              60          RLD        68.0     11250     Paved       NaN   \n",
       "3   4              70          RLD        60.0      9550     Paved       NaN   \n",
       "4   5              60          RLD        84.0     14260     Paved       NaN   \n",
       "\n",
       "  Property_Shape Land_Outline Utility_Type  ... Pool_Area Pool_Quality  \\\n",
       "0            Reg          Lvl       AllPub  ...         0          NaN   \n",
       "1            Reg          Lvl       AllPub  ...         0          NaN   \n",
       "2            IR1          Lvl       AllPub  ...         0          NaN   \n",
       "3            IR1          Lvl       AllPub  ...         0          NaN   \n",
       "4            IR1          Lvl       AllPub  ...         0          NaN   \n",
       "\n",
       "  Fence_Quality Miscellaneous_Feature Miscellaneous_Value Month_Sold  \\\n",
       "0           NaN                   NaN                   0          2   \n",
       "1           NaN                   NaN                   0          5   \n",
       "2           NaN                   NaN                   0          9   \n",
       "3           NaN                   NaN                   0          2   \n",
       "4           NaN                   NaN                   0         12   \n",
       "\n",
       "  Year_Sold  Sale_Type  Sale_Condition  Sale_Price  \n",
       "0      2008         WD          Normal      208500  \n",
       "1      2007         WD          Normal      181500  \n",
       "2      2008         WD          Normal      223500  \n",
       "3      2006         WD         Abnorml      140000  \n",
       "4      2008         WD          Normal      250000  \n",
       "\n",
       "[5 rows x 81 columns]"
      ]
     },
     "execution_count": 4,
     "metadata": {},
     "output_type": "execute_result"
    }
   ],
   "source": [
    "prop.head()"
   ]
  },
  {
   "cell_type": "code",
   "execution_count": 5,
   "id": "85aaa9d4",
   "metadata": {},
   "outputs": [
    {
     "data": {
      "text/plain": [
       "(1459, 81)"
      ]
     },
     "execution_count": 5,
     "metadata": {},
     "output_type": "execute_result"
    }
   ],
   "source": [
    "prop.shape"
   ]
  },
  {
   "cell_type": "markdown",
   "id": "76ecf152",
   "metadata": {},
   "source": [
    "PRE PROCESSING"
   ]
  },
  {
   "cell_type": "code",
   "execution_count": 6,
   "id": "1f8398e9",
   "metadata": {},
   "outputs": [
    {
     "data": {
      "text/plain": [
       "Lot_Extent                259\n",
       "Lane_Type                1368\n",
       "Brick_Veneer_Type           8\n",
       "Brick_Veneer_Area           8\n",
       "Basement_Height            37\n",
       "Basement_Condition         37\n",
       "Exposure_Level             38\n",
       "BsmtFinType1               37\n",
       "BsmtFinType2               38\n",
       "Electrical_System           1\n",
       "Fireplace_Quality         689\n",
       "Garage                     81\n",
       "Garage_Built_Year          81\n",
       "Garage_Finish_Year         81\n",
       "Garage_Quality             81\n",
       "Garage_Condition           81\n",
       "Pool_Quality             1452\n",
       "Fence_Quality            1178\n",
       "Miscellaneous_Feature    1405\n",
       "dtype: int64"
      ]
     },
     "execution_count": 6,
     "metadata": {},
     "output_type": "execute_result"
    }
   ],
   "source": [
    "prop.isnull().sum()[prop.isnull().sum()>0]"
   ]
  },
  {
   "cell_type": "code",
   "execution_count": 7,
   "id": "8cbd5fa6",
   "metadata": {},
   "outputs": [],
   "source": [
    "prop = prop.drop(['Lane_Type','Fireplace_Quality','Pool_Quality','Fence_Quality','Miscellaneous_Feature'],axis =1)\n",
    "\n",
    "\n",
    "#more than 50% nulls"
   ]
  },
  {
   "cell_type": "code",
   "execution_count": 8,
   "id": "50a679ea",
   "metadata": {},
   "outputs": [],
   "source": [
    "# FILLING NULLS\n",
    "prop.Lot_Extent = prop.Lot_Extent.fillna(prop.Lot_Extent.median())\n",
    "\n",
    "prop.Brick_Veneer_Type = prop.Brick_Veneer_Type.fillna('None')\n",
    "prop.Brick_Veneer_Area = prop.Brick_Veneer_Area.fillna(0)\n",
    "prop.Basement_Height = prop.Basement_Height.fillna('none')\n",
    "prop.Basement_Condition= prop.Basement_Condition.fillna('none')\n",
    "prop.Exposure_Level = prop.Exposure_Level.fillna('No')\n",
    "prop.BsmtFinType1 = prop.BsmtFinType1.fillna('None')\n",
    "prop.BsmtFinType2 = prop.BsmtFinType2.fillna('None')\n",
    "prop.Electrical_System = prop.Electrical_System.fillna('SBrkr')\n",
    "\n",
    "prop.Garage = prop.Garage.fillna('NoGrg')\n",
    "prop.Garage_Built_Year = prop.Garage_Built_Year.fillna(2005)\n",
    "prop.Garage_Finish_Year = prop.Garage_Finish_Year.fillna('Unf')\n",
    "prop.Garage_Quality = prop.Garage_Quality.fillna('TA')\n",
    "prop.Garage_Condition = prop.Garage_Condition.fillna('TA')\n"
   ]
  },
  {
   "cell_type": "code",
   "execution_count": 9,
   "id": "0db7928d",
   "metadata": {},
   "outputs": [
    {
     "data": {
      "text/plain": [
       "Series([], dtype: int64)"
      ]
     },
     "execution_count": 9,
     "metadata": {},
     "output_type": "execute_result"
    }
   ],
   "source": [
    "prop.isnull().sum()[prop.isnull().sum()>0] "
   ]
  },
  {
   "cell_type": "code",
   "execution_count": 10,
   "id": "f1d8f162",
   "metadata": {},
   "outputs": [
    {
     "data": {
      "text/plain": [
       "Index(['Zoning_Class', 'Road_Type', 'Property_Shape', 'Land_Outline',\n",
       "       'Utility_Type', 'Lot_Configuration', 'Property_Slope', 'Neighborhood',\n",
       "       'Condition1', 'Condition2', 'House_Type', 'House_Design', 'Roof_Design',\n",
       "       'Roof_Quality', 'Exterior1st', 'Exterior2nd', 'Brick_Veneer_Type',\n",
       "       'Exterior_Material', 'Exterior_Condition', 'Foundation_Type',\n",
       "       'Basement_Height', 'Basement_Condition', 'Exposure_Level',\n",
       "       'BsmtFinType1', 'BsmtFinType2', 'Heating_Type', 'Heating_Quality',\n",
       "       'Air_Conditioning', 'Electrical_System', 'Kitchen_Quality',\n",
       "       'Functional_Rate', 'Garage', 'Garage_Finish_Year', 'Garage_Quality',\n",
       "       'Garage_Condition', 'Pavedd_Drive', 'Sale_Type', 'Sale_Condition'],\n",
       "      dtype='object')"
      ]
     },
     "execution_count": 10,
     "metadata": {},
     "output_type": "execute_result"
    }
   ],
   "source": [
    "prop.columns[prop.dtypes == 'object']\n"
   ]
  },
  {
   "cell_type": "code",
   "execution_count": 11,
   "id": "678e8de0",
   "metadata": {},
   "outputs": [],
   "source": [
    "prop.Property_Shape.replace({'Reg':0,'IR1':1,'IR2':2,'IR3':3},inplace = True)     #Ordinal Data"
   ]
  },
  {
   "cell_type": "code",
   "execution_count": 12,
   "id": "65afe5d5",
   "metadata": {},
   "outputs": [],
   "source": [
    "prop[prop.select_dtypes(include = 'object').columns] =prop[prop.select_dtypes(include = 'object').columns].apply(le.fit_transform)\n",
    "#non-numeric to numeric"
   ]
  },
  {
   "cell_type": "code",
   "execution_count": 13,
   "id": "c4ea6ad7",
   "metadata": {},
   "outputs": [
    {
     "data": {
      "text/html": [
       "<div>\n",
       "<style scoped>\n",
       "    .dataframe tbody tr th:only-of-type {\n",
       "        vertical-align: middle;\n",
       "    }\n",
       "\n",
       "    .dataframe tbody tr th {\n",
       "        vertical-align: top;\n",
       "    }\n",
       "\n",
       "    .dataframe thead th {\n",
       "        text-align: right;\n",
       "    }\n",
       "</style>\n",
       "<table border=\"1\" class=\"dataframe\">\n",
       "  <thead>\n",
       "    <tr style=\"text-align: right;\">\n",
       "      <th></th>\n",
       "      <th>Id</th>\n",
       "      <th>Building_Class</th>\n",
       "      <th>Zoning_Class</th>\n",
       "      <th>Lot_Extent</th>\n",
       "      <th>Lot_Size</th>\n",
       "      <th>Road_Type</th>\n",
       "      <th>Property_Shape</th>\n",
       "      <th>Land_Outline</th>\n",
       "      <th>Utility_Type</th>\n",
       "      <th>Lot_Configuration</th>\n",
       "      <th>...</th>\n",
       "      <th>Enclosed_Lobby_Area</th>\n",
       "      <th>Three_Season_Lobby_Area</th>\n",
       "      <th>Screen_Lobby_Area</th>\n",
       "      <th>Pool_Area</th>\n",
       "      <th>Miscellaneous_Value</th>\n",
       "      <th>Month_Sold</th>\n",
       "      <th>Year_Sold</th>\n",
       "      <th>Sale_Type</th>\n",
       "      <th>Sale_Condition</th>\n",
       "      <th>Sale_Price</th>\n",
       "    </tr>\n",
       "  </thead>\n",
       "  <tbody>\n",
       "    <tr>\n",
       "      <th>0</th>\n",
       "      <td>1</td>\n",
       "      <td>60</td>\n",
       "      <td>3</td>\n",
       "      <td>65.0</td>\n",
       "      <td>8450</td>\n",
       "      <td>1</td>\n",
       "      <td>0</td>\n",
       "      <td>3</td>\n",
       "      <td>0</td>\n",
       "      <td>4</td>\n",
       "      <td>...</td>\n",
       "      <td>20.337934</td>\n",
       "      <td>0</td>\n",
       "      <td>0</td>\n",
       "      <td>0</td>\n",
       "      <td>0</td>\n",
       "      <td>2</td>\n",
       "      <td>2008</td>\n",
       "      <td>8</td>\n",
       "      <td>4</td>\n",
       "      <td>208500</td>\n",
       "    </tr>\n",
       "    <tr>\n",
       "      <th>1</th>\n",
       "      <td>2</td>\n",
       "      <td>20</td>\n",
       "      <td>3</td>\n",
       "      <td>80.0</td>\n",
       "      <td>9600</td>\n",
       "      <td>1</td>\n",
       "      <td>0</td>\n",
       "      <td>3</td>\n",
       "      <td>0</td>\n",
       "      <td>2</td>\n",
       "      <td>...</td>\n",
       "      <td>15.039392</td>\n",
       "      <td>0</td>\n",
       "      <td>0</td>\n",
       "      <td>0</td>\n",
       "      <td>0</td>\n",
       "      <td>5</td>\n",
       "      <td>2007</td>\n",
       "      <td>8</td>\n",
       "      <td>4</td>\n",
       "      <td>181500</td>\n",
       "    </tr>\n",
       "    <tr>\n",
       "      <th>2</th>\n",
       "      <td>3</td>\n",
       "      <td>60</td>\n",
       "      <td>3</td>\n",
       "      <td>68.0</td>\n",
       "      <td>11250</td>\n",
       "      <td>1</td>\n",
       "      <td>1</td>\n",
       "      <td>3</td>\n",
       "      <td>0</td>\n",
       "      <td>4</td>\n",
       "      <td>...</td>\n",
       "      <td>-46.232198</td>\n",
       "      <td>0</td>\n",
       "      <td>0</td>\n",
       "      <td>0</td>\n",
       "      <td>0</td>\n",
       "      <td>9</td>\n",
       "      <td>2008</td>\n",
       "      <td>8</td>\n",
       "      <td>4</td>\n",
       "      <td>223500</td>\n",
       "    </tr>\n",
       "    <tr>\n",
       "      <th>3</th>\n",
       "      <td>4</td>\n",
       "      <td>70</td>\n",
       "      <td>3</td>\n",
       "      <td>60.0</td>\n",
       "      <td>9550</td>\n",
       "      <td>1</td>\n",
       "      <td>1</td>\n",
       "      <td>3</td>\n",
       "      <td>0</td>\n",
       "      <td>0</td>\n",
       "      <td>...</td>\n",
       "      <td>60.921821</td>\n",
       "      <td>0</td>\n",
       "      <td>0</td>\n",
       "      <td>0</td>\n",
       "      <td>0</td>\n",
       "      <td>2</td>\n",
       "      <td>2006</td>\n",
       "      <td>8</td>\n",
       "      <td>0</td>\n",
       "      <td>140000</td>\n",
       "    </tr>\n",
       "    <tr>\n",
       "      <th>4</th>\n",
       "      <td>5</td>\n",
       "      <td>60</td>\n",
       "      <td>3</td>\n",
       "      <td>84.0</td>\n",
       "      <td>14260</td>\n",
       "      <td>1</td>\n",
       "      <td>1</td>\n",
       "      <td>3</td>\n",
       "      <td>0</td>\n",
       "      <td>2</td>\n",
       "      <td>...</td>\n",
       "      <td>21.788818</td>\n",
       "      <td>0</td>\n",
       "      <td>0</td>\n",
       "      <td>0</td>\n",
       "      <td>0</td>\n",
       "      <td>12</td>\n",
       "      <td>2008</td>\n",
       "      <td>8</td>\n",
       "      <td>4</td>\n",
       "      <td>250000</td>\n",
       "    </tr>\n",
       "  </tbody>\n",
       "</table>\n",
       "<p>5 rows × 76 columns</p>\n",
       "</div>"
      ],
      "text/plain": [
       "   Id  Building_Class  Zoning_Class  Lot_Extent  Lot_Size  Road_Type  \\\n",
       "0   1              60             3        65.0      8450          1   \n",
       "1   2              20             3        80.0      9600          1   \n",
       "2   3              60             3        68.0     11250          1   \n",
       "3   4              70             3        60.0      9550          1   \n",
       "4   5              60             3        84.0     14260          1   \n",
       "\n",
       "   Property_Shape  Land_Outline  Utility_Type  Lot_Configuration  ...  \\\n",
       "0               0             3             0                  4  ...   \n",
       "1               0             3             0                  2  ...   \n",
       "2               1             3             0                  4  ...   \n",
       "3               1             3             0                  0  ...   \n",
       "4               1             3             0                  2  ...   \n",
       "\n",
       "   Enclosed_Lobby_Area  Three_Season_Lobby_Area  Screen_Lobby_Area  Pool_Area  \\\n",
       "0            20.337934                        0                  0          0   \n",
       "1            15.039392                        0                  0          0   \n",
       "2           -46.232198                        0                  0          0   \n",
       "3            60.921821                        0                  0          0   \n",
       "4            21.788818                        0                  0          0   \n",
       "\n",
       "   Miscellaneous_Value  Month_Sold  Year_Sold  Sale_Type  Sale_Condition  \\\n",
       "0                    0           2       2008          8               4   \n",
       "1                    0           5       2007          8               4   \n",
       "2                    0           9       2008          8               4   \n",
       "3                    0           2       2006          8               0   \n",
       "4                    0          12       2008          8               4   \n",
       "\n",
       "   Sale_Price  \n",
       "0      208500  \n",
       "1      181500  \n",
       "2      223500  \n",
       "3      140000  \n",
       "4      250000  \n",
       "\n",
       "[5 rows x 76 columns]"
      ]
     },
     "execution_count": 13,
     "metadata": {},
     "output_type": "execute_result"
    }
   ],
   "source": [
    "prop.head()"
   ]
  },
  {
   "cell_type": "code",
   "execution_count": null,
   "id": "e14d9cac",
   "metadata": {},
   "outputs": [],
   "source": []
  },
  {
   "cell_type": "code",
   "execution_count": 14,
   "id": "e5088edb",
   "metadata": {},
   "outputs": [],
   "source": [
    "prop = prop.drop(['Id'],axis = 1)          #unique value column"
   ]
  },
  {
   "cell_type": "code",
   "execution_count": 15,
   "id": "0823f0a7",
   "metadata": {},
   "outputs": [
    {
     "data": {
      "text/html": [
       "<div>\n",
       "<style scoped>\n",
       "    .dataframe tbody tr th:only-of-type {\n",
       "        vertical-align: middle;\n",
       "    }\n",
       "\n",
       "    .dataframe tbody tr th {\n",
       "        vertical-align: top;\n",
       "    }\n",
       "\n",
       "    .dataframe thead th {\n",
       "        text-align: right;\n",
       "    }\n",
       "</style>\n",
       "<table border=\"1\" class=\"dataframe\">\n",
       "  <thead>\n",
       "    <tr style=\"text-align: right;\">\n",
       "      <th></th>\n",
       "      <th>Building_Class</th>\n",
       "      <th>Zoning_Class</th>\n",
       "      <th>Lot_Extent</th>\n",
       "      <th>Lot_Size</th>\n",
       "      <th>Road_Type</th>\n",
       "      <th>Property_Shape</th>\n",
       "      <th>Land_Outline</th>\n",
       "      <th>Utility_Type</th>\n",
       "      <th>Lot_Configuration</th>\n",
       "      <th>Property_Slope</th>\n",
       "      <th>...</th>\n",
       "      <th>Enclosed_Lobby_Area</th>\n",
       "      <th>Three_Season_Lobby_Area</th>\n",
       "      <th>Screen_Lobby_Area</th>\n",
       "      <th>Pool_Area</th>\n",
       "      <th>Miscellaneous_Value</th>\n",
       "      <th>Month_Sold</th>\n",
       "      <th>Year_Sold</th>\n",
       "      <th>Sale_Type</th>\n",
       "      <th>Sale_Condition</th>\n",
       "      <th>Sale_Price</th>\n",
       "    </tr>\n",
       "  </thead>\n",
       "  <tbody>\n",
       "    <tr>\n",
       "      <th>0</th>\n",
       "      <td>60</td>\n",
       "      <td>3</td>\n",
       "      <td>65.0</td>\n",
       "      <td>8450</td>\n",
       "      <td>1</td>\n",
       "      <td>0</td>\n",
       "      <td>3</td>\n",
       "      <td>0</td>\n",
       "      <td>4</td>\n",
       "      <td>0</td>\n",
       "      <td>...</td>\n",
       "      <td>20.337934</td>\n",
       "      <td>0</td>\n",
       "      <td>0</td>\n",
       "      <td>0</td>\n",
       "      <td>0</td>\n",
       "      <td>2</td>\n",
       "      <td>2008</td>\n",
       "      <td>8</td>\n",
       "      <td>4</td>\n",
       "      <td>208500</td>\n",
       "    </tr>\n",
       "    <tr>\n",
       "      <th>1</th>\n",
       "      <td>20</td>\n",
       "      <td>3</td>\n",
       "      <td>80.0</td>\n",
       "      <td>9600</td>\n",
       "      <td>1</td>\n",
       "      <td>0</td>\n",
       "      <td>3</td>\n",
       "      <td>0</td>\n",
       "      <td>2</td>\n",
       "      <td>0</td>\n",
       "      <td>...</td>\n",
       "      <td>15.039392</td>\n",
       "      <td>0</td>\n",
       "      <td>0</td>\n",
       "      <td>0</td>\n",
       "      <td>0</td>\n",
       "      <td>5</td>\n",
       "      <td>2007</td>\n",
       "      <td>8</td>\n",
       "      <td>4</td>\n",
       "      <td>181500</td>\n",
       "    </tr>\n",
       "    <tr>\n",
       "      <th>2</th>\n",
       "      <td>60</td>\n",
       "      <td>3</td>\n",
       "      <td>68.0</td>\n",
       "      <td>11250</td>\n",
       "      <td>1</td>\n",
       "      <td>1</td>\n",
       "      <td>3</td>\n",
       "      <td>0</td>\n",
       "      <td>4</td>\n",
       "      <td>0</td>\n",
       "      <td>...</td>\n",
       "      <td>-46.232198</td>\n",
       "      <td>0</td>\n",
       "      <td>0</td>\n",
       "      <td>0</td>\n",
       "      <td>0</td>\n",
       "      <td>9</td>\n",
       "      <td>2008</td>\n",
       "      <td>8</td>\n",
       "      <td>4</td>\n",
       "      <td>223500</td>\n",
       "    </tr>\n",
       "  </tbody>\n",
       "</table>\n",
       "<p>3 rows × 75 columns</p>\n",
       "</div>"
      ],
      "text/plain": [
       "   Building_Class  Zoning_Class  Lot_Extent  Lot_Size  Road_Type  \\\n",
       "0              60             3        65.0      8450          1   \n",
       "1              20             3        80.0      9600          1   \n",
       "2              60             3        68.0     11250          1   \n",
       "\n",
       "   Property_Shape  Land_Outline  Utility_Type  Lot_Configuration  \\\n",
       "0               0             3             0                  4   \n",
       "1               0             3             0                  2   \n",
       "2               1             3             0                  4   \n",
       "\n",
       "   Property_Slope  ...  Enclosed_Lobby_Area  Three_Season_Lobby_Area  \\\n",
       "0               0  ...            20.337934                        0   \n",
       "1               0  ...            15.039392                        0   \n",
       "2               0  ...           -46.232198                        0   \n",
       "\n",
       "   Screen_Lobby_Area  Pool_Area  Miscellaneous_Value  Month_Sold  Year_Sold  \\\n",
       "0                  0          0                    0           2       2008   \n",
       "1                  0          0                    0           5       2007   \n",
       "2                  0          0                    0           9       2008   \n",
       "\n",
       "   Sale_Type  Sale_Condition  Sale_Price  \n",
       "0          8               4      208500  \n",
       "1          8               4      181500  \n",
       "2          8               4      223500  \n",
       "\n",
       "[3 rows x 75 columns]"
      ]
     },
     "execution_count": 15,
     "metadata": {},
     "output_type": "execute_result"
    }
   ],
   "source": [
    "prop.head(3)"
   ]
  },
  {
   "cell_type": "code",
   "execution_count": 16,
   "id": "bec60daf",
   "metadata": {},
   "outputs": [],
   "source": [
    "def remove_outliers(df,  col, k  ):   \n",
    "    mean = df[col].mean()\n",
    "    global df1\n",
    "    sd = df[col].std()    \n",
    "    final_list = [x for x in df[col] if (x > mean - k * sd)]\n",
    "    final_list = [x for x in final_list if (x < mean + k * sd)]         \n",
    "    df1 = df.loc[df[col].isin(final_list)] ; print(df1.shape)     \n",
    "    print(\"Number of outliers removed == >\"   ,  df.shape[0]  - df1.shape[0])"
   ]
  },
  {
   "cell_type": "code",
   "execution_count": 17,
   "id": "62cc2b03",
   "metadata": {},
   "outputs": [
    {
     "name": "stdout",
     "output_type": "stream",
     "text": [
      "(1396, 75)\n",
      "Number of outliers removed == > 63\n"
     ]
    }
   ],
   "source": [
    "#removing Outliers\n",
    "\n",
    "remove_outliers(prop,  'Sale_Price', 2  )"
   ]
  },
  {
   "cell_type": "code",
   "execution_count": 18,
   "id": "96666ab8",
   "metadata": {},
   "outputs": [],
   "source": [
    "prop = df1"
   ]
  },
  {
   "cell_type": "markdown",
   "id": "fd22774e",
   "metadata": {},
   "source": [
    "##### if correlation b/w a x column and y variable is close to zero then there is no point using that column for model building"
   ]
  },
  {
   "cell_type": "code",
   "execution_count": 19,
   "id": "0878b9b2",
   "metadata": {},
   "outputs": [
    {
     "data": {
      "text/plain": [
       "Index(['Building_Class', 'Zoning_Class', 'Lot_Extent', 'Lot_Size', 'Road_Type',\n",
       "       'Property_Shape', 'Land_Outline', 'Utility_Type', 'Lot_Configuration',\n",
       "       'Property_Slope', 'Neighborhood', 'Condition1', 'Condition2',\n",
       "       'House_Type', 'House_Design', 'Overall_Material', 'House_Condition',\n",
       "       'Construction_Year', 'Remodel_Year', 'Roof_Design', 'Roof_Quality',\n",
       "       'Exterior1st', 'Exterior2nd', 'Brick_Veneer_Type', 'Brick_Veneer_Area',\n",
       "       'Exterior_Material', 'Exterior_Condition', 'Foundation_Type',\n",
       "       'Basement_Height', 'Basement_Condition', 'Exposure_Level',\n",
       "       'BsmtFinType1', 'BsmtFinSF1', 'BsmtFinType2', 'BsmtFinSF2', 'BsmtUnfSF',\n",
       "       'Total_Basement_Area', 'Heating_Type', 'Heating_Quality',\n",
       "       'Air_Conditioning', 'Electrical_System', 'First_Floor_Area',\n",
       "       'Second_Floor_Area', 'LowQualFinSF', 'Grade_Living_Area',\n",
       "       'Underground_Full_Bathroom', 'Underground_Half_Bathroom',\n",
       "       'Full_Bathroom_Above_Grade', 'Half_Bathroom_Above_Grade',\n",
       "       'Bedroom_Above_Grade', 'Kitchen_Above_Grade', 'Kitchen_Quality',\n",
       "       'Rooms_Above_Grade', 'Functional_Rate', 'Fireplaces', 'Garage',\n",
       "       'Garage_Built_Year', 'Garage_Finish_Year', 'Garage_Size', 'Garage_Area',\n",
       "       'Garage_Quality', 'Garage_Condition', 'Pavedd_Drive', 'W_Deck_Area',\n",
       "       'Open_Lobby_Area', 'Enclosed_Lobby_Area', 'Three_Season_Lobby_Area',\n",
       "       'Screen_Lobby_Area', 'Pool_Area', 'Miscellaneous_Value', 'Month_Sold',\n",
       "       'Year_Sold', 'Sale_Type', 'Sale_Condition'],\n",
       "      dtype='object')"
      ]
     },
     "execution_count": 19,
     "metadata": {},
     "output_type": "execute_result"
    }
   ],
   "source": [
    "prop.iloc[:,0:-1].columns   # X variables"
   ]
  },
  {
   "cell_type": "code",
   "execution_count": 20,
   "id": "d6ce251a",
   "metadata": {},
   "outputs": [],
   "source": [
    "x_col =prop.iloc[:,0:-1].columns"
   ]
  },
  {
   "cell_type": "code",
   "execution_count": 21,
   "id": "852d2f99",
   "metadata": {},
   "outputs": [],
   "source": [
    "cor_list = []\n",
    "for col in x_col:\n",
    "    cor_list.append(prop.Sale_Price.corr(prop[col]))"
   ]
  },
  {
   "cell_type": "code",
   "execution_count": 22,
   "id": "9208c6a6",
   "metadata": {},
   "outputs": [],
   "source": [
    "cols_corr =pd.DataFrame()\n",
    "cols_corr['Columns'] = x_col\n",
    "cols_corr['corelation'] = cor_list"
   ]
  },
  {
   "cell_type": "code",
   "execution_count": 23,
   "id": "1555575f",
   "metadata": {},
   "outputs": [],
   "source": [
    "df2 =cols_corr[(cols_corr.corelation < -.3) | (cols_corr.corelation>.3) ]"
   ]
  },
  {
   "cell_type": "code",
   "execution_count": 24,
   "id": "b1b9eb91",
   "metadata": {},
   "outputs": [],
   "source": [
    "l1 = list(df2.Columns)\n"
   ]
  },
  {
   "cell_type": "code",
   "execution_count": 25,
   "id": "6f5e5e8c",
   "metadata": {},
   "outputs": [
    {
     "data": {
      "text/plain": [
       "20"
      ]
     },
     "execution_count": 25,
     "metadata": {},
     "output_type": "execute_result"
    }
   ],
   "source": [
    "len(l1)"
   ]
  },
  {
   "cell_type": "code",
   "execution_count": 26,
   "id": "4cb306ab",
   "metadata": {},
   "outputs": [],
   "source": [
    "l1.append('Sale_Price')"
   ]
  },
  {
   "cell_type": "code",
   "execution_count": 27,
   "id": "fa579247",
   "metadata": {},
   "outputs": [],
   "source": [
    "prop1 = prop.loc[:,l1] "
   ]
  },
  {
   "cell_type": "code",
   "execution_count": 28,
   "id": "86c443be",
   "metadata": {},
   "outputs": [
    {
     "data": {
      "text/plain": [
       "(1396, 21)"
      ]
     },
     "execution_count": 28,
     "metadata": {},
     "output_type": "execute_result"
    }
   ],
   "source": [
    "prop1.shape"
   ]
  },
  {
   "cell_type": "code",
   "execution_count": 29,
   "id": "20f77287",
   "metadata": {},
   "outputs": [],
   "source": [
    "from sklearn.preprocessing import StandardScaler\n",
    "scaler = StandardScaler()"
   ]
  },
  {
   "cell_type": "markdown",
   "id": "21007c8e",
   "metadata": {},
   "source": [
    "RANDOM SAMPLING"
   ]
  },
  {
   "cell_type": "code",
   "execution_count": 30,
   "id": "6429abed",
   "metadata": {},
   "outputs": [],
   "source": [
    "prop_x = prop1.iloc[:,0:-1]\n",
    "prop_y=prop1.iloc[:,-1]"
   ]
  },
  {
   "cell_type": "code",
   "execution_count": 31,
   "id": "dcca254c",
   "metadata": {},
   "outputs": [],
   "source": [
    "scaled_x = pd.DataFrame(scaler.fit_transform(prop_x),columns=prop_x.columns)"
   ]
  },
  {
   "cell_type": "code",
   "execution_count": 32,
   "id": "bb7910ae",
   "metadata": {},
   "outputs": [
    {
     "data": {
      "text/html": [
       "<div>\n",
       "<style scoped>\n",
       "    .dataframe tbody tr th:only-of-type {\n",
       "        vertical-align: middle;\n",
       "    }\n",
       "\n",
       "    .dataframe tbody tr th {\n",
       "        vertical-align: top;\n",
       "    }\n",
       "\n",
       "    .dataframe thead th {\n",
       "        text-align: right;\n",
       "    }\n",
       "</style>\n",
       "<table border=\"1\" class=\"dataframe\">\n",
       "  <thead>\n",
       "    <tr style=\"text-align: right;\">\n",
       "      <th></th>\n",
       "      <th>Overall_Material</th>\n",
       "      <th>Construction_Year</th>\n",
       "      <th>Remodel_Year</th>\n",
       "      <th>Brick_Veneer_Area</th>\n",
       "      <th>Exterior_Material</th>\n",
       "      <th>Foundation_Type</th>\n",
       "      <th>Basement_Height</th>\n",
       "      <th>Total_Basement_Area</th>\n",
       "      <th>Heating_Quality</th>\n",
       "      <th>First_Floor_Area</th>\n",
       "      <th>Second_Floor_Area</th>\n",
       "      <th>Grade_Living_Area</th>\n",
       "      <th>Full_Bathroom_Above_Grade</th>\n",
       "      <th>Kitchen_Quality</th>\n",
       "      <th>Rooms_Above_Grade</th>\n",
       "      <th>Fireplaces</th>\n",
       "      <th>Garage</th>\n",
       "      <th>Garage_Built_Year</th>\n",
       "      <th>Garage_Finish_Year</th>\n",
       "      <th>Garage_Size</th>\n",
       "    </tr>\n",
       "  </thead>\n",
       "  <tbody>\n",
       "    <tr>\n",
       "      <th>0</th>\n",
       "      <td>0.795399</td>\n",
       "      <td>1.098385</td>\n",
       "      <td>0.917421</td>\n",
       "      <td>0.673141</td>\n",
       "      <td>-0.998902</td>\n",
       "      <td>0.802392</td>\n",
       "      <td>-0.467908</td>\n",
       "      <td>-0.411662</td>\n",
       "      <td>-0.914471</td>\n",
       "      <td>-0.771594</td>\n",
       "      <td>1.231471</td>\n",
       "      <td>0.494015</td>\n",
       "      <td>0.859580</td>\n",
       "      <td>-0.542826</td>\n",
       "      <td>1.025470</td>\n",
       "      <td>-0.922812</td>\n",
       "      <td>-0.777862</td>\n",
       "      <td>0.968472</td>\n",
       "      <td>-0.339953</td>\n",
       "      <td>0.392568</td>\n",
       "    </tr>\n",
       "    <tr>\n",
       "      <th>1</th>\n",
       "      <td>0.014543</td>\n",
       "      <td>0.198613</td>\n",
       "      <td>-0.389535</td>\n",
       "      <td>-0.564467</td>\n",
       "      <td>0.661178</td>\n",
       "      <td>-0.507712</td>\n",
       "      <td>-0.467908</td>\n",
       "      <td>0.586017</td>\n",
       "      <td>-0.914471</td>\n",
       "      <td>0.364624</td>\n",
       "      <td>-0.797804</td>\n",
       "      <td>-0.440455</td>\n",
       "      <td>0.859580</td>\n",
       "      <td>0.788957</td>\n",
       "      <td>-0.268885</td>\n",
       "      <td>0.659799</td>\n",
       "      <td>-0.777862</td>\n",
       "      <td>-0.122655</td>\n",
       "      <td>-0.339953</td>\n",
       "      <td>0.392568</td>\n",
       "    </tr>\n",
       "    <tr>\n",
       "      <th>2</th>\n",
       "      <td>0.795399</td>\n",
       "      <td>1.031735</td>\n",
       "      <td>0.869016</td>\n",
       "      <td>0.458454</td>\n",
       "      <td>-0.998902</td>\n",
       "      <td>0.802392</td>\n",
       "      <td>-0.467908</td>\n",
       "      <td>-0.254393</td>\n",
       "      <td>-0.914471</td>\n",
       "      <td>-0.592486</td>\n",
       "      <td>1.259986</td>\n",
       "      <td>0.652542</td>\n",
       "      <td>0.859580</td>\n",
       "      <td>-0.542826</td>\n",
       "      <td>-0.268885</td>\n",
       "      <td>0.659799</td>\n",
       "      <td>-0.777862</td>\n",
       "      <td>0.887648</td>\n",
       "      <td>-0.339953</td>\n",
       "      <td>0.392568</td>\n",
       "    </tr>\n",
       "    <tr>\n",
       "      <th>3</th>\n",
       "      <td>0.795399</td>\n",
       "      <td>-1.834206</td>\n",
       "      <td>-0.679969</td>\n",
       "      <td>-0.564467</td>\n",
       "      <td>0.661178</td>\n",
       "      <td>-1.817816</td>\n",
       "      <td>0.757607</td>\n",
       "      <td>-0.657396</td>\n",
       "      <td>0.230463</td>\n",
       "      <td>-0.477745</td>\n",
       "      <td>0.998604</td>\n",
       "      <td>0.508616</td>\n",
       "      <td>-1.006631</td>\n",
       "      <td>-0.542826</td>\n",
       "      <td>0.378293</td>\n",
       "      <td>0.659799</td>\n",
       "      <td>1.262336</td>\n",
       "      <td>0.766412</td>\n",
       "      <td>0.915534</td>\n",
       "      <td>1.779974</td>\n",
       "    </tr>\n",
       "    <tr>\n",
       "      <th>4</th>\n",
       "      <td>1.576255</td>\n",
       "      <td>0.998410</td>\n",
       "      <td>0.772204</td>\n",
       "      <td>1.645547</td>\n",
       "      <td>-0.998902</td>\n",
       "      <td>0.802392</td>\n",
       "      <td>-0.467908</td>\n",
       "      <td>0.298509</td>\n",
       "      <td>-0.914471</td>\n",
       "      <td>0.037191</td>\n",
       "      <td>1.704335</td>\n",
       "      <td>1.511921</td>\n",
       "      <td>0.859580</td>\n",
       "      <td>-0.542826</td>\n",
       "      <td>1.672648</td>\n",
       "      <td>0.659799</td>\n",
       "      <td>-0.777862</td>\n",
       "      <td>0.847236</td>\n",
       "      <td>-0.339953</td>\n",
       "      <td>1.779974</td>\n",
       "    </tr>\n",
       "  </tbody>\n",
       "</table>\n",
       "</div>"
      ],
      "text/plain": [
       "   Overall_Material  Construction_Year  Remodel_Year  Brick_Veneer_Area  \\\n",
       "0          0.795399           1.098385      0.917421           0.673141   \n",
       "1          0.014543           0.198613     -0.389535          -0.564467   \n",
       "2          0.795399           1.031735      0.869016           0.458454   \n",
       "3          0.795399          -1.834206     -0.679969          -0.564467   \n",
       "4          1.576255           0.998410      0.772204           1.645547   \n",
       "\n",
       "   Exterior_Material  Foundation_Type  Basement_Height  Total_Basement_Area  \\\n",
       "0          -0.998902         0.802392        -0.467908            -0.411662   \n",
       "1           0.661178        -0.507712        -0.467908             0.586017   \n",
       "2          -0.998902         0.802392        -0.467908            -0.254393   \n",
       "3           0.661178        -1.817816         0.757607            -0.657396   \n",
       "4          -0.998902         0.802392        -0.467908             0.298509   \n",
       "\n",
       "   Heating_Quality  First_Floor_Area  Second_Floor_Area  Grade_Living_Area  \\\n",
       "0        -0.914471         -0.771594           1.231471           0.494015   \n",
       "1        -0.914471          0.364624          -0.797804          -0.440455   \n",
       "2        -0.914471         -0.592486           1.259986           0.652542   \n",
       "3         0.230463         -0.477745           0.998604           0.508616   \n",
       "4        -0.914471          0.037191           1.704335           1.511921   \n",
       "\n",
       "   Full_Bathroom_Above_Grade  Kitchen_Quality  Rooms_Above_Grade  Fireplaces  \\\n",
       "0                   0.859580        -0.542826           1.025470   -0.922812   \n",
       "1                   0.859580         0.788957          -0.268885    0.659799   \n",
       "2                   0.859580        -0.542826          -0.268885    0.659799   \n",
       "3                  -1.006631        -0.542826           0.378293    0.659799   \n",
       "4                   0.859580        -0.542826           1.672648    0.659799   \n",
       "\n",
       "     Garage  Garage_Built_Year  Garage_Finish_Year  Garage_Size  \n",
       "0 -0.777862           0.968472           -0.339953     0.392568  \n",
       "1 -0.777862          -0.122655           -0.339953     0.392568  \n",
       "2 -0.777862           0.887648           -0.339953     0.392568  \n",
       "3  1.262336           0.766412            0.915534     1.779974  \n",
       "4 -0.777862           0.847236           -0.339953     1.779974  "
      ]
     },
     "execution_count": 32,
     "metadata": {},
     "output_type": "execute_result"
    }
   ],
   "source": [
    "scaled_x.head()"
   ]
  },
  {
   "cell_type": "code",
   "execution_count": 33,
   "id": "08341f03",
   "metadata": {},
   "outputs": [],
   "source": [
    "from sklearn.model_selection import train_test_split"
   ]
  },
  {
   "cell_type": "code",
   "execution_count": 34,
   "id": "7208bec8",
   "metadata": {},
   "outputs": [],
   "source": [
    "prop_train_x,prop_test_x,prop_train_y,prop_test_y = train_test_split(scaled_x,prop_y,test_size = .2)  "
   ]
  },
  {
   "cell_type": "code",
   "execution_count": 35,
   "id": "a85dd2db",
   "metadata": {},
   "outputs": [
    {
     "data": {
      "text/plain": [
       "948     192500\n",
       "593     140000\n",
       "1116    184100\n",
       "Name: Sale_Price, dtype: int64"
      ]
     },
     "execution_count": 35,
     "metadata": {},
     "output_type": "execute_result"
    }
   ],
   "source": [
    "prop_train_y.head(3)"
   ]
  },
  {
   "cell_type": "code",
   "execution_count": 36,
   "id": "5264dc0a",
   "metadata": {},
   "outputs": [
    {
     "data": {
      "text/plain": [
       "(280, 20)"
      ]
     },
     "execution_count": 36,
     "metadata": {},
     "output_type": "execute_result"
    }
   ],
   "source": [
    "prop_test_x.shape"
   ]
  },
  {
   "cell_type": "markdown",
   "id": "76897fa2",
   "metadata": {},
   "source": [
    "MODEL BUILDING"
   ]
  },
  {
   "cell_type": "markdown",
   "id": "5f283a49",
   "metadata": {},
   "source": [
    "## Linear Regression"
   ]
  },
  {
   "cell_type": "code",
   "execution_count": 37,
   "id": "1112ed6e",
   "metadata": {},
   "outputs": [],
   "source": [
    "from sklearn.linear_model import LinearRegression\n",
    "linreg = LinearRegression()"
   ]
  },
  {
   "cell_type": "code",
   "execution_count": 38,
   "id": "ee8fc11d",
   "metadata": {},
   "outputs": [
    {
     "data": {
      "text/plain": [
       "LinearRegression()"
      ]
     },
     "execution_count": 38,
     "metadata": {},
     "output_type": "execute_result"
    }
   ],
   "source": [
    "linreg.fit(prop_train_x,prop_train_y)"
   ]
  },
  {
   "cell_type": "code",
   "execution_count": 39,
   "id": "abfed74e",
   "metadata": {},
   "outputs": [],
   "source": [
    "pred = linreg.predict(prop_test_x)"
   ]
  },
  {
   "cell_type": "code",
   "execution_count": 40,
   "id": "2bd77c7b",
   "metadata": {},
   "outputs": [
    {
     "data": {
      "text/plain": [
       "array([114719.95172357, 129233.68232264, 186161.52503416, 125895.2851228 ,\n",
       "       268363.63563389, 119987.6074943 , 156053.2367395 , 162756.81254731,\n",
       "       190547.72902529, 126648.42319041, 125845.60618176, 130525.35269384,\n",
       "       126372.66736131, 171017.03594689,  93288.35380815, 122863.59170766,\n",
       "       175619.23868563, 186610.95665588, 178306.67094157, 112426.30712565,\n",
       "       194764.85647134, 136699.36203787, 158932.04469256, 159446.5099771 ,\n",
       "       135272.3627144 , 105416.71336613, 107804.82792445, 133956.0930508 ,\n",
       "       128150.63558434, 154561.46222658, 224403.01547411, 208239.24816945,\n",
       "       188810.97802835, 237643.44722294, 183513.58940766, 118862.57555497,\n",
       "       117066.77466369, 127222.95025136, 173851.38922527, 118212.19824584,\n",
       "       165216.68786606, 186780.81683355, 154863.45499283, 116773.91049288,\n",
       "       151959.52901836, 156044.50773336, 132438.44222256, 127972.64014528,\n",
       "       163035.70311704, 227532.69679234, 185717.92857782, 167491.41189397,\n",
       "       113747.72520024, 132895.53140149, 112570.46905259, 144359.33443508,\n",
       "       131999.66391637, 110397.83432419, 124268.68192491, 198765.72195882,\n",
       "       136354.50651141, 174115.87285046, 185392.6498227 , 192525.0426018 ,\n",
       "       272948.03580158, 204266.09578829, 179045.66323602, 223026.13759054,\n",
       "       116694.85948672, 160541.16372331, 107130.80032361, 177570.20917068,\n",
       "       157207.21134189, 110585.52426498, 190149.60804741, 244984.47801617,\n",
       "       104831.53121872, 133517.04017415, 141452.7399336 , 216699.86960622,\n",
       "       175200.66838515, 228089.56564587, 228520.19887192, 201823.70040997,\n",
       "        92742.08209081, 177126.85995967, 240303.01794156, 214921.87225695,\n",
       "       238588.95079793, 124558.58457263, 139115.31688275, 179015.91391675,\n",
       "       142833.80202611, 219932.91857544, 166812.32537027, 139856.38777272,\n",
       "       177462.94370864, 274537.97688519, 189839.29438629, 228461.07098643,\n",
       "       207795.3817832 , 110826.59255915, 151333.63515076, 246516.2781138 ,\n",
       "       247847.45535887, 112480.93076153, 250053.39405602, 258228.65300232,\n",
       "        91016.10807446, 204048.84297065, 164437.81681273, 158791.36088807,\n",
       "       204140.92695981, 133252.36085846, 176992.51699758, 160649.80855063,\n",
       "       203592.75350784, 179435.64864789, 126275.8129697 , 207873.63746596,\n",
       "       123088.24111639,  94544.32227805, 208447.50370358, 183690.9889953 ,\n",
       "       168350.4889637 , 132187.00445661, 149421.36930463, 148261.59941575,\n",
       "       114200.5941541 , 264281.9722422 , 197081.11171792,  97980.58386926,\n",
       "       208395.82476403, 152663.46610054, 101182.12859967, 168417.95387569,\n",
       "       243996.31433757, 214123.57274308, 167692.9923331 , 190649.34925472,\n",
       "       106755.71798454, 196548.90126938, 248552.85472403, 142714.59847391,\n",
       "       238747.68745206, 140050.57411116, 129729.21420337, 200726.21220226,\n",
       "       195826.61191629,  97598.7304916 , 123933.78992982, 247811.52163752,\n",
       "       163717.70136641, 233107.44406056, 109719.97616485, 158384.03717588,\n",
       "       240758.9167477 , 190241.06063819, 250387.44237532, 127024.85054626,\n",
       "        51491.23815125, 197204.8932145 , 127700.50886051, 167651.70329851,\n",
       "       209978.31597979, 280528.66472248, 221460.52685726, 283596.40900403,\n",
       "       209920.42640988, 144068.46906297, 218613.54135269, 279842.73079533,\n",
       "       187868.52792121, 231533.15178256, 192576.04653749, 200270.7054483 ,\n",
       "       188201.47178227, 113665.68408357, 125682.69286485, 149818.87903122,\n",
       "       214416.32687197, 114789.53613569, 202950.85122345, 248653.63245958,\n",
       "       202521.90958309, 154704.07580997, 245026.44181374, 176582.13370771,\n",
       "       219955.523817  , 108769.84062934, 214085.02231416, 264893.8017695 ,\n",
       "       185520.87702708, 167518.84727622, 165530.83393908, 119658.97162964,\n",
       "       172295.37198234, 182255.33319461, 131687.17646472, 224265.9947917 ,\n",
       "       173161.30711681,  88676.5094173 ,  96155.34898835, 215873.88395482,\n",
       "       181294.15328483, 111861.69422917, 163499.42844312, 158090.88121062,\n",
       "       204345.99801843, 128836.18828576, 189417.16436914, 271808.13230451,\n",
       "       185446.81221667, 234206.31467945, 190059.74940403, 130578.53168038,\n",
       "        92798.84060262, 187206.14105481, 269724.94988747, 133683.17487623,\n",
       "       236056.46826122, 102266.47753128, 218548.98254773, 168564.03332122,\n",
       "       144136.85336438, 426229.3133906 , 179177.4799018 , 171587.04444691,\n",
       "       171649.37338568, 120655.09368207, 138234.41922763, 121009.10288163,\n",
       "       177490.46737746,  99637.98045325, 110865.96782205, 281349.62353233,\n",
       "        57394.11227509, 183109.78350274, 180453.25354045, 149264.93326904,\n",
       "       128967.88067956, 103078.62560833, 196905.29757427, 100301.41160073,\n",
       "       137553.40048213, 192625.51429414, 152315.30958507, 252370.11797491,\n",
       "       129922.95494986, 114237.70659912, 255582.75662609, 134856.27225125,\n",
       "       226546.19976984, 203007.42425109, 209258.88879774, 154808.31008378,\n",
       "       136485.42328819, 218800.00910252, 211566.60703597, 294568.63003736,\n",
       "       136553.15055216, 200169.17436695, 121117.3986523 , 257575.40274351,\n",
       "       250830.05671838, 164118.90264904, 234133.62314199, 247165.77309808,\n",
       "       176905.40073107, 125553.86875325, 230195.73143252, 240499.8344902 ,\n",
       "       148601.20394593, 278146.78366945, 161224.3354316 , 110838.09802847,\n",
       "       113018.14025057, 130855.12817483, 116193.37015264, 305576.20133391])"
      ]
     },
     "execution_count": 40,
     "metadata": {},
     "output_type": "execute_result"
    }
   ],
   "source": [
    "pred"
   ]
  },
  {
   "cell_type": "code",
   "execution_count": 41,
   "id": "56eac8d7",
   "metadata": {},
   "outputs": [
    {
     "data": {
      "text/plain": [
       "280"
      ]
     },
     "execution_count": 41,
     "metadata": {},
     "output_type": "execute_result"
    }
   ],
   "source": [
    "len(pred)"
   ]
  },
  {
   "cell_type": "code",
   "execution_count": 42,
   "id": "1706dd4e",
   "metadata": {},
   "outputs": [
    {
     "data": {
      "text/plain": [
       "170186.1994301719"
      ]
     },
     "execution_count": 42,
     "metadata": {},
     "output_type": "execute_result"
    }
   ],
   "source": [
    "linreg.intercept_          #Bo"
   ]
  },
  {
   "cell_type": "code",
   "execution_count": 43,
   "id": "ef2ad193",
   "metadata": {},
   "outputs": [
    {
     "data": {
      "text/plain": [
       "array([14965.84666712,  4927.48528568,  5467.76752854,   765.34647959,\n",
       "       -1868.30697797,   721.56089155, -2263.92391442,  3821.53784296,\n",
       "       -1418.18030652, 14417.85732196, 13189.55375971,    41.47683701,\n",
       "        -839.16541438, -4781.22574944,   832.5758852 ,  5764.34947475,\n",
       "       -2157.86218331,  -168.30663343, -2448.1951625 ,  8759.94294615])"
      ]
     },
     "execution_count": 43,
     "metadata": {},
     "output_type": "execute_result"
    }
   ],
   "source": [
    "linreg.coef_              #Bn"
   ]
  },
  {
   "cell_type": "code",
   "execution_count": 44,
   "id": "916a9ab6",
   "metadata": {},
   "outputs": [
    {
     "name": "stdout",
     "output_type": "stream",
     "text": [
      "Rsqr: 0.8131772137695161\n"
     ]
    }
   ],
   "source": [
    "Rsqr = linreg.score(prop_train_x,prop_train_y)\n",
    "print('Rsqr:', Rsqr)           #range 0-1  (higher the better)"
   ]
  },
  {
   "cell_type": "code",
   "execution_count": 45,
   "id": "adcc45b8",
   "metadata": {},
   "outputs": [
    {
     "name": "stdout",
     "output_type": "stream",
     "text": [
      "AdRsqr: 0.8097649254365393\n"
     ]
    }
   ],
   "source": [
    "N = prop_train_x.shape[0]\n",
    "K = prop_train_x.shape[1]\n",
    "\n",
    "AdRsqr = 1-((1-Rsqr)*(N-1)/(N-K-1))\n",
    "print('AdRsqr:', AdRsqr)             #range 0-Rsqr   (higher,better)"
   ]
  },
  {
   "cell_type": "code",
   "execution_count": 46,
   "id": "65bc1285",
   "metadata": {},
   "outputs": [],
   "source": [
    "pred_train = linreg.predict(prop_train_x)"
   ]
  },
  {
   "cell_type": "code",
   "execution_count": 76,
   "id": "4d9a8542",
   "metadata": {},
   "outputs": [],
   "source": [
    "err_train = prop_train_y - pred_train"
   ]
  },
  {
   "cell_type": "code",
   "execution_count": 48,
   "id": "ab9540ad",
   "metadata": {},
   "outputs": [
    {
     "data": {
      "text/plain": [
       "1.2504737189967572e-11"
      ]
     },
     "execution_count": 48,
     "metadata": {},
     "output_type": "execute_result"
    }
   ],
   "source": [
    "np.mean(err_train)          #should be zero"
   ]
  },
  {
   "cell_type": "code",
   "execution_count": 49,
   "id": "64a35100",
   "metadata": {},
   "outputs": [
    {
     "data": {
      "image/png": "[encoded data removed]",
      "text/plain": [
       "<Figure size 500x500 with 1 Axes>"
      ]
     },
     "metadata": {},
     "output_type": "display_data"
    }
   ],
   "source": [
    "sns.displot(err_train,bins = 30);  \n",
    "plt.show()                                   #errors are normally distributed"
   ]
  },
  {
   "cell_type": "code",
   "execution_count": 50,
   "id": "1302de2e",
   "metadata": {},
   "outputs": [
    {
     "data": {
      "text/plain": [
       "32.369867007408764"
      ]
     },
     "execution_count": 50,
     "metadata": {},
     "output_type": "execute_result"
    }
   ],
   "source": [
    "err_train.kurtosis()      #for normal dist kurt = value+3\n",
    "# normal dist  (k = 0)"
   ]
  },
  {
   "cell_type": "code",
   "execution_count": 51,
   "id": "bcc71588",
   "metadata": {},
   "outputs": [
    {
     "data": {
      "text/plain": [
       "30.510530133342808"
      ]
     },
     "execution_count": 51,
     "metadata": {},
     "output_type": "execute_result"
    }
   ],
   "source": [
    "27.510530133342808 + 3"
   ]
  },
  {
   "cell_type": "code",
   "execution_count": 52,
   "id": "fffa1a82",
   "metadata": {},
   "outputs": [
    {
     "data": {
      "text/plain": [
       "-2.2083279692049063"
      ]
     },
     "execution_count": 52,
     "metadata": {},
     "output_type": "execute_result"
    }
   ],
   "source": [
    "err_train.skew()          #skew should be zero"
   ]
  },
  {
   "cell_type": "code",
   "execution_count": 53,
   "id": "2c237906",
   "metadata": {},
   "outputs": [
    {
     "data": {
      "image/png": "[encoded data removed]",
      "text/plain": [
       "<Figure size 640x480 with 1 Axes>"
      ]
     },
     "metadata": {},
     "output_type": "display_data"
    }
   ],
   "source": [
    "plt.plot(err_train,'*')\n",
    "plt.show()                          #there is no pattern in errors"
   ]
  },
  {
   "cell_type": "code",
   "execution_count": null,
   "id": "fad1426a",
   "metadata": {},
   "outputs": [],
   "source": []
  },
  {
   "cell_type": "code",
   "execution_count": 54,
   "id": "d92f7ba1",
   "metadata": {},
   "outputs": [],
   "source": [
    "pred_actual = pd.DataFrame()"
   ]
  },
  {
   "cell_type": "code",
   "execution_count": 55,
   "id": "436a8273",
   "metadata": {},
   "outputs": [],
   "source": [
    "pred_actual['Actual'] = prop_train_y\n",
    "pred_actual['Predicted'] = pred_train"
   ]
  },
  {
   "cell_type": "code",
   "execution_count": 56,
   "id": "08baafd4",
   "metadata": {},
   "outputs": [
    {
     "data": {
      "text/html": [
       "<div>\n",
       "<style scoped>\n",
       "    .dataframe tbody tr th:only-of-type {\n",
       "        vertical-align: middle;\n",
       "    }\n",
       "\n",
       "    .dataframe tbody tr th {\n",
       "        vertical-align: top;\n",
       "    }\n",
       "\n",
       "    .dataframe thead th {\n",
       "        text-align: right;\n",
       "    }\n",
       "</style>\n",
       "<table border=\"1\" class=\"dataframe\">\n",
       "  <thead>\n",
       "    <tr style=\"text-align: right;\">\n",
       "      <th></th>\n",
       "      <th>Actual</th>\n",
       "      <th>Predicted</th>\n",
       "    </tr>\n",
       "  </thead>\n",
       "  <tbody>\n",
       "    <tr>\n",
       "      <th>948</th>\n",
       "      <td>192500</td>\n",
       "      <td>216052.028649</td>\n",
       "    </tr>\n",
       "    <tr>\n",
       "      <th>593</th>\n",
       "      <td>140000</td>\n",
       "      <td>168030.236227</td>\n",
       "    </tr>\n",
       "    <tr>\n",
       "      <th>1116</th>\n",
       "      <td>184100</td>\n",
       "      <td>210322.454139</td>\n",
       "    </tr>\n",
       "    <tr>\n",
       "      <th>280</th>\n",
       "      <td>228500</td>\n",
       "      <td>219432.491956</td>\n",
       "    </tr>\n",
       "    <tr>\n",
       "      <th>891</th>\n",
       "      <td>172500</td>\n",
       "      <td>175918.137024</td>\n",
       "    </tr>\n",
       "  </tbody>\n",
       "</table>\n",
       "</div>"
      ],
      "text/plain": [
       "      Actual      Predicted\n",
       "948   192500  216052.028649\n",
       "593   140000  168030.236227\n",
       "1116  184100  210322.454139\n",
       "280   228500  219432.491956\n",
       "891   172500  175918.137024"
      ]
     },
     "execution_count": 56,
     "metadata": {},
     "output_type": "execute_result"
    }
   ],
   "source": [
    "pred_actual.head()"
   ]
  },
  {
   "cell_type": "code",
   "execution_count": 57,
   "id": "8f900fba",
   "metadata": {},
   "outputs": [
    {
     "data": {
      "image/png": "[encoded data removed]",
      "text/plain": [
       "<Figure size 640x480 with 1 Axes>"
      ]
     },
     "metadata": {},
     "output_type": "display_data"
    }
   ],
   "source": [
    "\n",
    "sns.regplot(x='Actual', y='Predicted', data=pred_actual, line_kws={'color': 'red'})\n",
    "plt.show()\n"
   ]
  },
  {
   "cell_type": "code",
   "execution_count": 58,
   "id": "9e4e04f1",
   "metadata": {},
   "outputs": [
    {
     "name": "stdout",
     "output_type": "stream",
     "text": [
      "MSE: 877391572.692715\n",
      "RMSE: 29620.796287282945\n",
      "MAPE: 13.232348435898272\n",
      "MAE: 20788.59500038969\n"
     ]
    }
   ],
   "source": [
    "pred_test = linreg.predict(prop_test_x)\n",
    "err_test = prop_test_y - pred_test\n",
    "\n",
    "MSE = np.mean(np.square(err_test))\n",
    "print('MSE:', MSE)\n",
    "\n",
    "\n",
    "RMSE = np.sqrt(MSE)\n",
    "print('RMSE:',RMSE)\n",
    "\n",
    "\n",
    "MAPE = np.mean(np.abs(err_test*100/prop_test_y))\n",
    "print('MAPE:', MAPE)\n",
    "\n",
    "MAE = np.mean(np.abs(err_test))\n",
    "print('MAE:', MAE)"
   ]
  },
  {
   "cell_type": "code",
   "execution_count": 59,
   "id": "a4932f81",
   "metadata": {},
   "outputs": [
    {
     "name": "stdout",
     "output_type": "stream",
     "text": [
      "MSE: 646119779.0282437\n",
      "RMSE: 25418.886266479964\n",
      "MAPE: 11.423610714068484\n",
      "MAE: 17702.35973238713\n"
     ]
    }
   ],
   "source": [
    "mse = np.mean(np.square(err_train))\n",
    "print('MSE:', mse)\n",
    "\n",
    "\n",
    "rmse = np.sqrt(mse)\n",
    "print('RMSE:',rmse)\n",
    "\n",
    "\n",
    "mape = np.mean(np.abs(err_train*100/prop_train_y))\n",
    "print('MAPE:', mape)\n",
    "\n",
    "mae = np.mean(np.abs(err_train))\n",
    "print('MAE:', mae)"
   ]
  },
  {
   "cell_type": "code",
   "execution_count": 60,
   "id": "98657929",
   "metadata": {},
   "outputs": [
    {
     "data": {
      "text/plain": [
       "84605.61476873644"
      ]
     },
     "execution_count": 60,
     "metadata": {},
     "output_type": "execute_result"
    }
   ],
   "source": [
    "err_train.max()"
   ]
  },
  {
   "cell_type": "code",
   "execution_count": 61,
   "id": "dcc16321",
   "metadata": {},
   "outputs": [],
   "source": [
    "features_coef = pd.DataFrame()\n",
    "features_coef['features'] = prop_train_x.columns\n",
    "features_coef['slope'] = linreg.coef_"
   ]
  },
  {
   "cell_type": "code",
   "execution_count": 62,
   "id": "dec49609",
   "metadata": {},
   "outputs": [
    {
     "data": {
      "text/html": [
       "<div>\n",
       "<style scoped>\n",
       "    .dataframe tbody tr th:only-of-type {\n",
       "        vertical-align: middle;\n",
       "    }\n",
       "\n",
       "    .dataframe tbody tr th {\n",
       "        vertical-align: top;\n",
       "    }\n",
       "\n",
       "    .dataframe thead th {\n",
       "        text-align: right;\n",
       "    }\n",
       "</style>\n",
       "<table border=\"1\" class=\"dataframe\">\n",
       "  <thead>\n",
       "    <tr style=\"text-align: right;\">\n",
       "      <th></th>\n",
       "      <th>features</th>\n",
       "      <th>slope</th>\n",
       "    </tr>\n",
       "  </thead>\n",
       "  <tbody>\n",
       "    <tr>\n",
       "      <th>0</th>\n",
       "      <td>Overall_Material</td>\n",
       "      <td>14965.846667</td>\n",
       "    </tr>\n",
       "    <tr>\n",
       "      <th>1</th>\n",
       "      <td>Construction_Year</td>\n",
       "      <td>4927.485286</td>\n",
       "    </tr>\n",
       "    <tr>\n",
       "      <th>2</th>\n",
       "      <td>Remodel_Year</td>\n",
       "      <td>5467.767529</td>\n",
       "    </tr>\n",
       "    <tr>\n",
       "      <th>3</th>\n",
       "      <td>Brick_Veneer_Area</td>\n",
       "      <td>765.346480</td>\n",
       "    </tr>\n",
       "    <tr>\n",
       "      <th>4</th>\n",
       "      <td>Exterior_Material</td>\n",
       "      <td>-1868.306978</td>\n",
       "    </tr>\n",
       "  </tbody>\n",
       "</table>\n",
       "</div>"
      ],
      "text/plain": [
       "            features         slope\n",
       "0   Overall_Material  14965.846667\n",
       "1  Construction_Year   4927.485286\n",
       "2       Remodel_Year   5467.767529\n",
       "3  Brick_Veneer_Area    765.346480\n",
       "4  Exterior_Material  -1868.306978"
      ]
     },
     "execution_count": 62,
     "metadata": {},
     "output_type": "execute_result"
    }
   ],
   "source": [
    "features_coef.head()"
   ]
  },
  {
   "cell_type": "markdown",
   "id": "baf3b29e",
   "metadata": {},
   "source": [
    "## Ridge, Lasso & ElasticNet"
   ]
  },
  {
   "cell_type": "code",
   "execution_count": 63,
   "id": "56932f66",
   "metadata": {},
   "outputs": [],
   "source": [
    "from sklearn.linear_model import Ridge,Lasso,ElasticNet\n",
    "rdg = Ridge()\n",
    "las = Lasso()\n",
    "elnet = ElasticNet()"
   ]
  },
  {
   "cell_type": "code",
   "execution_count": 64,
   "id": "cec2a840",
   "metadata": {},
   "outputs": [
    {
     "data": {
      "text/plain": [
       "Ridge()"
      ]
     },
     "execution_count": 64,
     "metadata": {},
     "output_type": "execute_result"
    }
   ],
   "source": [
    "rdg.fit(prop_train_x,prop_train_y)"
   ]
  },
  {
   "cell_type": "code",
   "execution_count": 65,
   "id": "46ae6c35",
   "metadata": {},
   "outputs": [],
   "source": [
    "predtest_rdg = rdg.predict(prop_test_x)\n",
    "predtrain_rdg = rdg.predict(prop_train_x)\n",
    "err_train_rdg = prop_train_y-predtrain_rdg\n",
    "err_test_rdg = prop_test_y - predtest_rdg"
   ]
  },
  {
   "cell_type": "code",
   "execution_count": 66,
   "id": "6715f866",
   "metadata": {},
   "outputs": [
    {
     "name": "stdout",
     "output_type": "stream",
     "text": [
      "Rsquare for train data: 0.8131681564855059\n",
      "AdRsqr for train data: 0.809755702722684\n"
     ]
    }
   ],
   "source": [
    "Rsqr_rdg = rdg.score(prop_train_x,prop_train_y)\n",
    "\n",
    "AdRsqr_rdg = 1-((1-Rsqr_rdg)*(N-1)/(N-K-1))\n",
    "\n",
    "print('Rsquare for train data:',Rsqr_rdg )\n",
    "print('AdRsqr for train data:', AdRsqr_rdg)"
   ]
  },
  {
   "cell_type": "code",
   "execution_count": 67,
   "id": "7242f7af",
   "metadata": {},
   "outputs": [
    {
     "name": "stdout",
     "output_type": "stream",
     "text": [
      "MSE for train data: 646151103.3140087\n",
      "MSE for test data: 876978157.0304061\n",
      "\n",
      "\n",
      "RMSE for train data: 25419.50242066136\n",
      "RMSE for test data: 29613.81699528796\n",
      "\n",
      "\n",
      "MAPE for train data: 11.424256488672773\n",
      "MAPE for test data: 13.22195958675222\n",
      "\n",
      "\n",
      "MAE for train data: 17707.41934044291\n",
      "MAE for test data: 20773.52050362995\n"
     ]
    }
   ],
   "source": [
    "print('MSE for train data:',np.mean(np.square(err_train_rdg)) )\n",
    "print('MSE for test data:',np.mean(np.square(err_test_rdg)) )\n",
    "print('\\n')\n",
    "print('RMSE for train data:',np.sqrt(np.mean(np.square(err_train_rdg))) )\n",
    "print('RMSE for test data:',np.sqrt(np.mean(np.square(err_test_rdg))) )\n",
    "print('\\n')\n",
    "print('MAPE for train data:',np.mean(np.abs(err_train_rdg*100/prop_train_y)) )\n",
    "print('MAPE for test data:',np.mean(np.abs(err_test_rdg*100/prop_test_y)))\n",
    "print('\\n')\n",
    "print('MAE for train data:',np.mean(np.abs(err_train_rdg)) )\n",
    "print('MAE for test data:',np.mean(np.abs(err_test_rdg)))"
   ]
  },
  {
   "cell_type": "markdown",
   "id": "c63b092d",
   "metadata": {},
   "source": [
    "## Lasso"
   ]
  },
  {
   "cell_type": "code",
   "execution_count": 68,
   "id": "b00651a3",
   "metadata": {},
   "outputs": [
    {
     "data": {
      "text/plain": [
       "Lasso()"
      ]
     },
     "execution_count": 68,
     "metadata": {},
     "output_type": "execute_result"
    }
   ],
   "source": [
    "las.fit(prop_train_x,prop_train_y)"
   ]
  },
  {
   "cell_type": "code",
   "execution_count": 69,
   "id": "6b0980a4",
   "metadata": {},
   "outputs": [],
   "source": [
    "predtest_las = las.predict(prop_test_x)\n",
    "predtrain_las = las.predict(prop_train_x)\n",
    "err_train_las = prop_train_y-predtrain_las\n",
    "err_test_las = prop_test_y - predtest_las"
   ]
  },
  {
   "cell_type": "code",
   "execution_count": 70,
   "id": "848c45c1",
   "metadata": {},
   "outputs": [
    {
     "name": "stdout",
     "output_type": "stream",
     "text": [
      "Rsquare for train data: 0.8131771939024008\n",
      "AdRsqr for train data: 0.8097649052065543\n"
     ]
    }
   ],
   "source": [
    "Rsqr_las = las.score(prop_train_x,prop_train_y)\n",
    "\n",
    "AdRsqr_las = 1-((1-Rsqr_las)*(N-1)/(N-K-1))\n",
    "\n",
    "print('Rsquare for train data:',Rsqr_las)\n",
    "print('AdRsqr for train data:', AdRsqr_las)"
   ]
  },
  {
   "cell_type": "code",
   "execution_count": 71,
   "id": "b98fccb8",
   "metadata": {},
   "outputs": [
    {
     "name": "stdout",
     "output_type": "stream",
     "text": [
      "MSE for train data: 646119847.7379354\n",
      "MSE for test data: 877387528.5736583\n",
      "\n",
      "\n",
      "RMSE for train data: 25418.887618027966\n",
      "RMSE for test data: 29620.728022343716\n",
      "\n",
      "\n",
      "MAPE for train data: 11.42361869777996\n",
      "MAPE for test data: 13.23228399258283\n",
      "\n",
      "\n",
      "MAE for train data: 17702.630333408077\n",
      "MAE for test data: 20788.49272798711\n"
     ]
    }
   ],
   "source": [
    "print('MSE for train data:',np.mean(np.square(err_train_las)) )\n",
    "print('MSE for test data:',np.mean(np.square(err_test_las)) )\n",
    "print('\\n')\n",
    "print('RMSE for train data:',np.sqrt(np.mean(np.square(err_train_las))) )\n",
    "print('RMSE for test data:',np.sqrt(np.mean(np.square(err_test_las))) )\n",
    "print('\\n')\n",
    "print('MAPE for train data:',np.mean(np.abs(err_train_las*100/prop_train_y)) )\n",
    "print('MAPE for test data:',np.mean(np.abs(err_test_las*100/prop_test_y)))\n",
    "print('\\n')\n",
    "print('MAE for train data:',np.mean(np.abs(err_train_las)) )\n",
    "print('MAE for test data:',np.mean(np.abs(err_test_las)))"
   ]
  },
  {
   "cell_type": "markdown",
   "id": "9155db8f",
   "metadata": {},
   "source": [
    "## ELASTICNET"
   ]
  },
  {
   "cell_type": "code",
   "execution_count": 72,
   "id": "b54dab7a",
   "metadata": {},
   "outputs": [
    {
     "data": {
      "text/plain": [
       "ElasticNet()"
      ]
     },
     "execution_count": 72,
     "metadata": {},
     "output_type": "execute_result"
    }
   ],
   "source": [
    "elnet.fit(prop_train_x,prop_train_y)"
   ]
  },
  {
   "cell_type": "code",
   "execution_count": 73,
   "id": "0e51caf3",
   "metadata": {},
   "outputs": [],
   "source": [
    "predtest_EN = elnet.predict(prop_test_x)\n",
    "predtrain_EN = elnet.predict(prop_train_x)\n",
    "err_train_EN = prop_train_y-predtrain_EN\n",
    "err_test_EN = prop_test_y - predtest_EN"
   ]
  },
  {
   "cell_type": "code",
   "execution_count": 74,
   "id": "a152d17d",
   "metadata": {},
   "outputs": [
    {
     "name": "stdout",
     "output_type": "stream",
     "text": [
      "Rsquare for train data: 0.8018254517077283\n",
      "AdRsqr for train data: 0.7982058252549015\n"
     ]
    }
   ],
   "source": [
    "Rsqr_EN = elnet.score(prop_train_x,prop_train_y)\n",
    "\n",
    "AdRsqr_EN= 1-((1-Rsqr_EN)*(N-1)/(N-K-1))\n",
    "\n",
    "print('Rsquare for train data:',Rsqr_EN)\n",
    "print('AdRsqr for train data:', AdRsqr_EN)"
   ]
  },
  {
   "cell_type": "code",
   "execution_count": 75,
   "id": "1944839e",
   "metadata": {},
   "outputs": [
    {
     "name": "stdout",
     "output_type": "stream",
     "text": [
      "MSE for train data: 685379433.286342\n",
      "MSE for test data: 899052048.5465467\n",
      "\n",
      "\n",
      "RMSE for train data: 26179.75235341889\n",
      "RMSE for test data: 29984.196646676173\n",
      "\n",
      "\n",
      "MAPE for train data: 11.741279428823287\n",
      "MAPE for test data: 13.46658616110208\n",
      "\n",
      "\n",
      "MAE for train data: 18269.89892642973\n",
      "MAE for test data: 21194.32760335636\n"
     ]
    }
   ],
   "source": [
    "print('MSE for train data:',np.mean(np.square(err_train_EN)) )\n",
    "print('MSE for test data:',np.mean(np.square(err_test_EN)) )\n",
    "print('\\n')\n",
    "print('RMSE for train data:',np.sqrt(np.mean(np.square(err_train_EN))) )\n",
    "print('RMSE for test data:',np.sqrt(np.mean(np.square(err_test_EN))) )\n",
    "print('\\n')\n",
    "print('MAPE for train data:',np.mean(np.abs(err_train_EN*100/prop_train_y)) )\n",
    "print('MAPE for test data:',np.mean(np.abs(err_test_EN*100/prop_test_y)))\n",
    "print('\\n')\n",
    "print('MAE for train data:',np.mean(np.abs(err_train_EN)) )\n",
    "print('MAE for test data:',np.mean(np.abs(err_test_EN)))"
   ]
  },
  {
   "cell_type": "code",
   "execution_count": null,
   "id": "7c33d2f3",
   "metadata": {},
   "outputs": [],
   "source": []
  },
  {
   "cell_type": "markdown",
   "id": "467e36a2",
   "metadata": {},
   "source": [
    "##### Linear regression, Ridge regression, Lasso regression, and ElasticNet are all techniques used in regression analysis, which is a method for modeling the relationship between a dependent variable and one or more independent variables.\n",
    "The main difference between these techniques is in how they handle the issue of overfitting, which is when a model is too complex and fits the training data too closely, leading to poor generalization performance on new data.\n",
    "\n",
    "\n",
    "Linear regression: This is the most basic form of regression, where a linear relationship is assumed between the independent variables and the dependent variable. The goal is to find the coefficients that best fit the data, based on the ordinary least squares (OLS) method. However, this method does not take into account the issue of overfitting.\n",
    "    \n",
    "Ridge regression: This method adds a regularization term to the OLS method, which penalizes large coefficients and shrinks them towards zero. This helps to reduce the variance of the model and improve its generalization performance. Ridge regression works well when there are many correlated variables in the dataset.\n",
    "    \n",
    "Lasso regression: This method also adds a regularization term to the OLS method, but it uses the L1 norm instead of the L2 norm used by Ridge regression. The L1 norm shrinks some coefficients to exactly zero, effectively performing feature selection and producing a more interpretable model. Lasso regression works well when there are many irrelevant variables in the dataset.\n",
    "    \n",
    "ElasticNet: This method combines the L1 and L2 norms in the regularization term, allowing for both feature selection and coefficient shrinkage. This makes it a more flexible method that works well when there are both correlated and irrelevant variables in the dataset.\n",
    "\n",
    "In summary, Linear regression is the most basic method that does not take into account the issue of overfitting, Ridge regression reduces the variance of the model by penalizing large coefficients, Lasso regression performs feature selection by shrinking some coefficients to exactly zero, and ElasticNet combines the L1 and L2 norms to provide a more flexible method.\n"
   ]
  },
  {
   "cell_type": "markdown",
   "id": "03d22b33",
   "metadata": {},
   "source": [
    "## Conclusion"
   ]
  },
  {
   "cell_type": "markdown",
   "id": "b7842a4b",
   "metadata": {},
   "source": [
    "###### Based on the regression algorithms used in the model, it appears that they are providing similar results. However, when implementing Lasso regularization (L1), the model is able to prevent overfitting by shrinking some of the coefficients to zero. This selective coefficient shrinkage improves the model's ability to predict the sale price of properties with greater accuracy, achieving around 80% or higher. Therefore, the Lasso regularization technique has been utilized to optimize the predictive accuracy of the model."
   ]
  },
  {
   "cell_type": "code",
   "execution_count": null,
   "id": "44f26021",
   "metadata": {},
   "outputs": [],
   "source": []
  },
  {
   "cell_type": "code",
   "execution_count": null,
   "id": "f32d2964",
   "metadata": {},
   "outputs": [],
   "source": []
  },
  {
   "cell_type": "code",
   "execution_count": null,
   "id": "0f2e6eab",
   "metadata": {},
   "outputs": [],
   "source": []
  },
  {
   "cell_type": "code",
   "execution_count": null,
   "id": "f28044d9",
   "metadata": {},
   "outputs": [],
   "source": []
  },
  {
   "cell_type": "code",
   "execution_count": null,
   "id": "2d3bf23f",
   "metadata": {},
   "outputs": [],
   "source": []
  },
  {
   "cell_type": "code",
   "execution_count": null,
   "id": "6ac69642",
   "metadata": {},
   "outputs": [],
   "source": []
  }
 ],
 "metadata": {
  "kernelspec": {
   "display_name": "Python 3 (ipykernel)",
   "language": "python",
   "name": "python3"
  },
  "language_info": {
   "codemirror_mode": {
    "name": "ipython",
    "version": 3
   },
   "file_extension": ".py",
   "mimetype": "text/x-python",
   "name": "python",
   "nbconvert_exporter": "python",
   "pygments_lexer": "ipython3",
   "version": "3.9.13"
  }
 },
 "nbformat": 4,
 "nbformat_minor": 5
}
